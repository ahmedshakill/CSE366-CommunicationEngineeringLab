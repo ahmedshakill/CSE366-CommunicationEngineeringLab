{
 "cells": [
  {
   "cell_type": "markdown",
   "id": "320f0117",
   "metadata": {},
   "source": [
    "                            Shakil Ahmed\n",
    "                            reg - 2017331024"
   ]
  },
  {
   "cell_type": "code",
   "execution_count": null,
   "id": "63e7a8a0",
   "metadata": {},
   "outputs": [],
   "source": [
    "import numpy as np\n",
    "import matplotlib.pyplot as plt\n",
    "import math"
   ]
  },
  {
   "cell_type": "code",
   "execution_count": 14,
   "id": "9487dd9e",
   "metadata": {},
   "outputs": [],
   "source": [
    "A=8\n",
    "f=2\n",
    "T=1/f\n",
    "t=np.linspace(0,2.0,130)\n",
    "# print(t)\n",
    "x=A*np.cos(2.0*np.pi*f*t)\n",
    "# print(x)\n",
    "# plt.stem(t,x)\n",
    "# plt.show()"
   ]
  },
  {
   "cell_type": "code",
   "execution_count": 31,
   "id": "955e7557",
   "metadata": {
    "scrolled": false
   },
   "outputs": [
    {
     "data": {
      "image/png": "[encoded data removed]",
      "text/plain": [
       "<Figure size 432x288 with 1 Axes>"
      ]
     },
     "metadata": {
      "needs_background": "light"
     },
     "output_type": "display_data"
    }
   ],
   "source": [
    "n=18\n",
    "fs=n*f\n",
    "ts=np.arange(0,1,1/fs)\n",
    "# print(ts)\n",
    "xs=A*np.cos(2*np.pi*f*ts)\n",
    "# print(xs)\n",
    "plt.stem(ts,xs)\n",
    "plt.show()"
   ]
  },
  {
   "cell_type": "raw",
   "id": "f4a073ca",
   "metadata": {},
   "source": [
    "bit     - number of bits required to encode\n",
    "L       - number of levels\n",
    "levels  - values representing individual points in the range"
   ]
  },
  {
   "cell_type": "code",
   "execution_count": 48,
   "id": "aa86d5c3",
   "metadata": {},
   "outputs": [
    {
     "data": {
      "image/png": "[encoded data removed]",
      "text/plain": [
       "<Figure size 432x288 with 1 Axes>"
      ]
     },
     "metadata": {
      "needs_background": "light"
     },
     "output_type": "display_data"
    }
   ],
   "source": [
    "\n",
    "\n",
    "bit=3\n",
    "L=2**bit\n",
    "mx=A\n",
    "mn=-mx\n",
    "dx=(mx-mn)/L\n",
    "levels=np.arange(mn,mx,dx)\n",
    "level_compare=np.arange(mn-(dx/2),mx+(dx/2),dx)\n",
    "\n",
    "xq=np.copy(xs)\n",
    "encoded=np.copy(xs)\n",
    "\n",
    "for i in range(len(partition)):\n",
    "    left=level_compare[i]\n",
    "    right=level_compare[i+1]\n",
    "#     print(\"left \",left)\n",
    "#     print(\"right\",right)\n",
    "    for j in range(len(xs)):\n",
    "        #left <=xs[i] <right\n",
    "#         print(\"xs[j]\",xs[j])\n",
    "        if(i != len(levels)-1 and left<=xs[j] and xs[j]<right):\n",
    "            xq[j]=levels[i]\n",
    "            encoded[j]=i\n",
    "#             print(\"j\",j)\n",
    "#             print(\"xq[j]\",xq[j])\n",
    "#             print(\"encode[j]\",encode[j])\n",
    "\n",
    "        #left <=xs[i], only for last partition\n",
    "        if(i==len(levels)-1 and left <= xs[j] ):\n",
    "            xq[j]=levels[i]\n",
    "            encoded[j]=i\n",
    "#             print(\"2 xq[j]\",xq[j])\n",
    "#             print(\"2 encode[j]\",encode[j])\n",
    "for i in range(len(xq)):\n",
    "    xq[i]=xq[i]+(dx/2)\n",
    "\n",
    "plt.stem(ts,xq)\n",
    "plt.show()"
   ]
  },
  {
   "cell_type": "raw",
   "id": "97326706",
   "metadata": {},
   "source": [
    "            Encoding"
   ]
  },
  {
   "cell_type": "code",
   "execution_count": 53,
   "id": "a8e19896",
   "metadata": {},
   "outputs": [
    {
     "data": {
      "image/png": "[encoded data removed]",
      "text/plain": [
       "<Figure size 1440x360 with 1 Axes>"
      ]
     },
     "metadata": {
      "needs_background": "light"
     },
     "output_type": "display_data"
    }
   ],
   "source": [
    "\n",
    "def decimalToBinary(val,bit):\n",
    "    binary=\"{0:b}\".format(int(val))\n",
    "    if(len(binary)>bit):\n",
    "        return binary\n",
    "    extra_zero = bit-len(binary)\n",
    "    return extra_zero*\"0\"+binary\n",
    "\n",
    "binary_codec=[]\n",
    "for i in range(len(encode)):\n",
    "    binary=decimalToBinary(encode[i],b_bit)\n",
    "    for j in range(len(binary)):\n",
    "        binary_codec.append(binary[j])\n",
    "\n",
    "pos=np.arange(len(binary_codec))\n",
    "plt.figure(figsize=(20,5))\n",
    "plt.ylim(-1,2)\n",
    "plt.step(pos,binary_codec)\n",
    "plt.show()"
   ]
  }
 ],
 "metadata": {
  "kernelspec": {
   "display_name": "Python 3",
   "language": "python",
   "name": "python3"
  },
  "language_info": {
   "codemirror_mode": {
    "name": "ipython",
    "version": 3
   },
   "file_extension": ".py",
   "mimetype": "text/x-python",
   "name": "python",
   "nbconvert_exporter": "python",
   "pygments_lexer": "ipython3",
   "version": "3.8.5"
  }
 },
 "nbformat": 4,
 "nbformat_minor": 5
}
