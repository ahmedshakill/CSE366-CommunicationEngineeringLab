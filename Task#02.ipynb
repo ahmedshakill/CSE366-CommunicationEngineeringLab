{
 "cells": [
  {
   "cell_type": "markdown",
   "id": "fd887ff1",
   "metadata": {},
   "source": [
    "                            Shakil Ahmed\n",
    "                            reg - 2017331024"
   ]
  },
  {
   "cell_type": "code",
   "execution_count": 231,
   "id": "2cbe38de",
   "metadata": {},
   "outputs": [],
   "source": [
    "import numpy as np\n",
    "import matplotlib.pyplot as plt\n",
    "import math"
   ]
  },
  {
   "cell_type": "raw",
   "id": "5dc8965d",
   "metadata": {},
   "source": [
    "                        Encoding\n",
    "\n",
    "bits - digital data elements \n",
    "Time - time to send a data element\n",
    "bit_rate - Bit rate(The number of data elements (bits))sent in one second\n",
    "Fs - Sampling Rate\n",
    "N  - Bit Length of input bits\n",
    "T  - Interval of bit time period \n",
    "x  - Line coding row vector\n",
    "t  - Time vector for N bits"
   ]
  },
  {
   "cell_type": "code",
   "execution_count": 232,
   "id": "781a8d58",
   "metadata": {},
   "outputs": [
    {
     "data": {
      "image/png": "[encoded data removed]",
      "text/plain": [
       "<Figure size 432x288 with 1 Axes>"
      ]
     },
     "metadata": {
      "needs_background": "light"
     },
     "output_type": "display_data"
    }
   ],
   "source": [
    "bits = np.array([0,1,1,0,0,1,0,1,1,0,1])\n",
    "Time = 10e-6\n",
    "bit_rate = 1/Time\n",
    "Fs = 4*bit_rate\n",
    "T = np.linspace(0,Time,100)\n",
    "# print(np.ones(len(T)))\n",
    "x = np.array([])\n",
    "for i  in range(len(bits)):\n",
    "    temp = bits[i]*np.ones(len(T))\n",
    "    x=np.append(x,temp)\n",
    "t = np.linspace(0,len(bits)*Time,len(x))\n",
    "\n",
    "plt.plot(t,x)\n",
    "plt.show()"
   ]
  },
  {
   "cell_type": "raw",
   "id": "95b92460",
   "metadata": {},
   "source": [
    "                Decoding\n",
    "                \n",
    "x=Signal element(Line coding row vector)\n",
    "t=Time vector for N bits\n",
    "bit_rate=the number of data elements(bits) sent in 1s\n",
    "data=Data elements"
   ]
  },
  {
   "cell_type": "code",
   "execution_count": 233,
   "id": "d9dfcae8",
   "metadata": {},
   "outputs": [
    {
     "name": "stdout",
     "output_type": "stream",
     "text": [
      "[0, 1, 1, 0, 0, 1, 0, 1, 1, 0, 1]\n"
     ]
    }
   ],
   "source": [
    "data =[]\n",
    "counter=0\n",
    "for i in range(len(t)):\n",
    "    if t[i]*bit_rate > counter:\n",
    "#         print(counter,t[i],t[i]*bit_rate)\n",
    "        counter=counter+1\n",
    "        data.append(int(x[i]))\n",
    "        \n",
    "print(data)"
   ]
  },
  {
   "cell_type": "markdown",
   "id": "49935112",
   "metadata": {},
   "source": [
    "                Block Coding(mB/nB Coding)\n",
    "                 (replaces each  𝑚−𝑏𝑖𝑡  group with an  𝑛−𝑏𝑖𝑡  group.)"
   ]
  },
  {
   "cell_type": "code",
   "execution_count": 234,
   "id": "1188851e",
   "metadata": {},
   "outputs": [],
   "source": [
    "mB = 4\n",
    "nB = 5\n",
    "\n",
    "mapped_code={\n",
    "    #encoding map\n",
    "    \"0000\":\"11110\",\n",
    "    \"0001\":\"01001\",\n",
    "    \"0010\":\"10100\",\n",
    "    \"0011\":\"10101\",\n",
    "    \"0100\":\"01010\",\n",
    "    \"0101\":\"01011\",\n",
    "    \"0110\":\"01110\",\n",
    "    \"0111\":\"01111\",\n",
    "    \"1000\":\"10010\",\n",
    "    \"1001\":\"10011\",\n",
    "    \"1010\":\"10110\",\n",
    "    \"1011\":\"10111\",\n",
    "    \"1100\":\"11010\",\n",
    "    \"1101\":\"11011\",\n",
    "    \"1110\":\"11100\",\n",
    "    \"1111\":\"11101\",\n",
    "    #decoding map\n",
    "    \"11110\": \"0000\",\n",
    "    \"01001\": \"0001\",\n",
    "    \"10100\": \"0010\",\n",
    "    \"10101\": \"0011\",\n",
    "    \"01010\": \"0100\",\n",
    "    \"01011\": \"0101\",\n",
    "    \"01110\": \"0110\",\n",
    "    \"01111\": \"0111\",\n",
    "    \"10010\": \"1000\",\n",
    "    \"10011\": \"1001\",\n",
    "    \"10110\": \"1010\",\n",
    "    \"10111\": \"1011\",\n",
    "    \"11010\": \"1100\",\n",
    "    \"11011\": \"1101\",\n",
    "    \"11100\": \"1110\",\n",
    "    \"11101\": \"1111\",\n",
    "}\n",
    "\n",
    "def get_Mapping_Codes(bits):\n",
    "  return mapped_code[\"\".join(map(str, bits))]\n",
    "  "
   ]
  },
  {
   "cell_type": "markdown",
   "id": "ad6b73df",
   "metadata": {},
   "source": [
    "bits  =  sequence of bits to encode"
   ]
  },
  {
   "cell_type": "code",
   "execution_count": 235,
   "id": "91274d42",
   "metadata": {},
   "outputs": [],
   "source": [
    "def get_MB_NB_Encoding(bits, mB, nB):\n",
    "    if len(bits) % mB != 0:\n",
    "        extra_len = (((len(bits)// mB) + 1) * mB) - len(bits)\n",
    "        extra = np.array(np.zeros(extra_len), dtype=int)\n",
    "        bits = np.append(bits, extra)\n",
    "  \n",
    "    encoded_bits_str = \"\"\n",
    "    for i in range(0, len(bits), mB):\n",
    "        encoded_bits_str += get_Mapping_Codes(bits[i:i+mB])\n",
    "  \n",
    "    encoded_bits_list = list(encoded_bits_str)\n",
    "    encoded_bits_map = map(int, encoded_bits_list)\n",
    "    encoded_bits = np.array(list(encoded_bits_map))\n",
    "    return encoded_bits"
   ]
  },
  {
   "cell_type": "code",
   "execution_count": 236,
   "id": "ca6a254c",
   "metadata": {},
   "outputs": [],
   "source": [
    "def get_NB_MB_Decoding(bits, mB, nB):\n",
    "    if len(bits) % nB != 0:\n",
    "        print(\"Invalid length, Decoding Not possible!\")\n",
    "        return\n",
    "    decoded_bits_str = \"\"\n",
    "    for i in range(0, len(bits), nB):\n",
    "        decoded_bits_str += get_Mapping_Codes(bits[i:i+nB])\n",
    "        \n",
    "    decoded_bits_list = list(decoded_bits_str)\n",
    "    decoded_bits_map = map(int, decoded_bits_list)\n",
    "    decoded_bits = np.array(list(decoded_bits_map))\n",
    "    return decoded_bits"
   ]
  },
  {
   "cell_type": "markdown",
   "id": "cae30032",
   "metadata": {},
   "source": [
    "4B/5B Encoding"
   ]
  },
  {
   "cell_type": "code",
   "execution_count": 237,
   "id": "270e401f",
   "metadata": {},
   "outputs": [
    {
     "name": "stdout",
     "output_type": "stream",
     "text": [
      "[0 1 1 1 0 0 1 0 1 1 1 0 1 1 0]\n"
     ]
    }
   ],
   "source": [
    "bits = np.array([0,1,1,0,0,1,0,1,1,0,1])\n",
    "bits = get_MB_NB_Encoding(bits,mB,nB)\n",
    "print(bits)"
   ]
  },
  {
   "cell_type": "code",
   "execution_count": 238,
   "id": "897cc311",
   "metadata": {},
   "outputs": [
    {
     "data": {
      "image/png": "[encoded data removed]",
      "text/plain": [
       "<Figure size 432x288 with 1 Axes>"
      ]
     },
     "metadata": {
      "needs_background": "light"
     },
     "output_type": "display_data"
    }
   ],
   "source": [
    "Time = 10e-6   \n",
    "bit_rate = 1/Time  \n",
    "Fs = 4*bit_rate    \n",
    "N = len(bits)   \n",
    "T = np.linspace(0,Time, mB * 100)\n",
    "\n",
    "x = np.array([])\n",
    "last_bit = 1\n",
    "for i in range(N):\n",
    "    if bits[i] == 1:\n",
    "        temp = (-1) * last_bit * np.ones(len(T))\n",
    "        last_bit = -last_bit\n",
    "    else:\n",
    "        temp = last_bit * np.ones(len(T))\n",
    "    x = np.append(x, temp)\n",
    "t = np.linspace(0,N*Time,len(x))\n",
    "\n",
    "plt.plot(t, x)\n",
    "plt.show()"
   ]
  },
  {
   "cell_type": "code",
   "execution_count": 239,
   "id": "a9738d0e",
   "metadata": {},
   "outputs": [
    {
     "name": "stdout",
     "output_type": "stream",
     "text": [
      "[0, 1, 1, 1, 0, 0, 1, 0, 1, 1, 1, 0, 1, 1, 0]\n"
     ]
    }
   ],
   "source": [
    "result = []\n",
    "counter = 0\n",
    "last_bit = 1\n",
    "for i in range(len(t)):\n",
    "    if t[i]*bit_rate > counter:\n",
    "        counter = counter + 1\n",
    "        if x[i] != last_bit:\n",
    "            result.append(1)\n",
    "            last_bit=-last_bit\n",
    "        else:\n",
    "            result.append(0)\n",
    "\n",
    "print(result)"
   ]
  },
  {
   "cell_type": "markdown",
   "id": "7fa06599",
   "metadata": {},
   "source": [
    "4B/5B Decoding"
   ]
  },
  {
   "cell_type": "code",
   "execution_count": 240,
   "id": "267831a8",
   "metadata": {},
   "outputs": [
    {
     "name": "stdout",
     "output_type": "stream",
     "text": [
      "[0 1 1 0 0 1 0 1 1 0 1 0]\n"
     ]
    }
   ],
   "source": [
    "decoded_output = get_NB_MB_Decoding(result,mB,nB)\n",
    "print(decoded_output)"
   ]
  }
 ],
 "metadata": {
  "kernelspec": {
   "display_name": "Python 3",
   "language": "python",
   "name": "python3"
  },
  "language_info": {
   "codemirror_mode": {
    "name": "ipython",
    "version": 3
   },
   "file_extension": ".py",
   "mimetype": "text/x-python",
   "name": "python",
   "nbconvert_exporter": "python",
   "pygments_lexer": "ipython3",
   "version": "3.8.5"
  }
 },
 "nbformat": 4,
 "nbformat_minor": 5
}
